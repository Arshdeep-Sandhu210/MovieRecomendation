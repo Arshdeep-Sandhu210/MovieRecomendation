{
  "nbformat": 4,
  "nbformat_minor": 0,
  "metadata": {
    "colab": {
      "provenance": [],
      "authorship_tag": "ABX9TyNcDk7TgCwX/lcj9jD2xo13",
      "include_colab_link": true
    },
    "kernelspec": {
      "name": "python3",
      "display_name": "Python 3"
    },
    "language_info": {
      "name": "python"
    }
  },
  "cells": [
    {
      "cell_type": "markdown",
      "metadata": {
        "id": "view-in-github",
        "colab_type": "text"
      },
      "source": [
        "<a href=\"https://colab.research.google.com/github/Arshdeep-Sandhu210/MovieRecomendation/blob/main/blas.ipynb\" target=\"_parent\"><img src=\"https://colab.research.google.com/assets/colab-badge.svg\" alt=\"Open In Colab\"/></a>"
      ]
    },
    {
      "cell_type": "code",
      "execution_count": 54,
      "metadata": {
        "colab": {
          "base_uri": "https://localhost:8080/"
        },
        "id": "LDvhKygbMAJf",
        "outputId": "33ef9938-1b2a-4be8-a107-d34895a8d4f3"
      },
      "outputs": [
        {
          "output_type": "stream",
          "name": "stdout",
          "text": [
            "Overwriting blas_sgemm.c\n"
          ]
        }
      ],
      "source": [
        "# Step 2: Create C code file\n",
        "%%writefile blas_sgemm.c\n",
        "#include <stdio.h>\n",
        "#include <stdlib.h>\n",
        "#include <time.h>\n",
        "#include <cblas.h>\n",
        "\n",
        "#define M 1000  // Rows of A and C\n",
        "#define N 1000  // Columns of B and C\n",
        "#define K 2000  // Columns of A and rows of B\n",
        "\n",
        "void fill_random(float *matrix, int rows, int cols) {\n",
        "    for (int i = 0; i < rows * cols; ++i) {\n",
        "        matrix[i] = (float)rand() / RAND_MAX * 10.0f;\n",
        "    }\n",
        "}\n",
        "\n",
        "int main() {\n",
        "    srand(time(NULL));\n",
        "\n",
        "    float alpha = 1.0f, beta = 0.0f;\n",
        "\n",
        "    float* A = (float*)malloc(M * K * sizeof(float));\n",
        "    float* B = (float*)malloc(K * N * sizeof(float));\n",
        "    float* C = (float*)malloc(M * N * sizeof(float));\n",
        "\n",
        "    if (!A || !B || !C) {\n",
        "        printf(\"Memory allocation failed!\\n\");\n",
        "        return 1;\n",
        "    }\n",
        "\n",
        "    fill_random(A, M, K);\n",
        "    fill_random(B, K, N);\n",
        "\n",
        "    for (int i = 0; i < M * N; ++i) {\n",
        "        C[i] = 0.0f;\n",
        "    }\n",
        "\n",
        "    // Time just the multiplication\n",
        "    clock_t start = clock();\n",
        "\n",
        "    cblas_sgemm(\n",
        "        CblasRowMajor, CblasNoTrans, CblasNoTrans,\n",
        "        M, N, K,\n",
        "        alpha, A, K,\n",
        "        B, N,\n",
        "        beta, C, N\n",
        "    );\n",
        "\n",
        "    clock_t end = clock();\n",
        "    double elapsed_secs = (double)(end - start) / CLOCKS_PER_SEC;\n",
        "\n",
        "    printf(\"Multiplication took %.6f seconds\\n\", elapsed_secs);\n",
        "\n",
        "    free(A);\n",
        "    free(B);\n",
        "    free(C);\n",
        "\n",
        "    return 0;\n",
        "}\n",
        "\n"
      ]
    },
    {
      "cell_type": "code",
      "source": [
        "!gcc -o blas_sgemm blas_sgemm.c -lopenblas\n",
        "!./blas_sgemm\n"
      ],
      "metadata": {
        "colab": {
          "base_uri": "https://localhost:8080/"
        },
        "id": "ai8TWQq0Ntgs",
        "outputId": "cb26ad26-2dea-45e6-902d-06892127b4d8"
      },
      "execution_count": 55,
      "outputs": [
        {
          "output_type": "stream",
          "name": "stdout",
          "text": [
            "Multiplication took 0.109434 seconds\n"
          ]
        }
      ]
    },
    {
      "cell_type": "code",
      "source": [
        "%%writefile manual_sgemm.c\n",
        "#include <stdio.h>\n",
        "#include <stdlib.h>\n",
        "#include <time.h>\n",
        "\n",
        "#define M 1000  // Rows of A and C\n",
        "#define N 1000  // Columns of B and C\n",
        "#define K 2000  // Columns of A and rows of B\n",
        "\n",
        "void fill_random(float *matrix, int rows, int cols) {\n",
        "    for (int i = 0; i < rows * cols; ++i) {\n",
        "        matrix[i] = (float)rand() / RAND_MAX * 10.0f;\n",
        "    }\n",
        "}\n",
        "\n",
        "int main() {\n",
        "    srand(time(NULL));\n",
        "\n",
        "    float* A = (float*)malloc(M * K * sizeof(float));\n",
        "    float* B = (float*)malloc(K * N * sizeof(float));\n",
        "    float* C = (float*)malloc(M * N * sizeof(float));\n",
        "\n",
        "    if (!A || !B || !C) {\n",
        "        printf(\"Memory allocation failed!\\n\");\n",
        "        return 1;\n",
        "    }\n",
        "\n",
        "    fill_random(A, M, K);\n",
        "    fill_random(B, K, N);\n",
        "\n",
        "    for (int i = 0; i < M * N; ++i) {\n",
        "        C[i] = 0.0f;\n",
        "    }\n",
        "\n",
        "    // Time just the multiplication\n",
        "    clock_t start = clock();\n",
        "\n",
        "    // Manual matrix multiplication: C = A * B\n",
        "    for (int i = 0; i < M; ++i) {\n",
        "        for (int j = 0; j < N; ++j) {\n",
        "            float sum = 0.0f;\n",
        "            for (int p = 0; p < K; ++p) {\n",
        "                sum += A[i * K + p] * B[p * N + j];\n",
        "            }\n",
        "            C[i * N + j] = sum;\n",
        "        }\n",
        "    }\n",
        "\n",
        "    clock_t end = clock();\n",
        "    double elapsed_secs = (double)(end - start) / CLOCKS_PER_SEC;\n",
        "\n",
        "    printf(\"Manual multiplication took %.6f seconds\\n\", elapsed_secs);\n",
        "\n",
        "    free(A);\n",
        "    free(B);\n",
        "    free(C);\n",
        "\n",
        "    return 0;\n",
        "}\n"
      ],
      "metadata": {
        "colab": {
          "base_uri": "https://localhost:8080/"
        },
        "id": "zkXnzxbSQ3Ro",
        "outputId": "b5142866-e90c-4a2b-ea3a-620513835d7b"
      },
      "execution_count": 56,
      "outputs": [
        {
          "output_type": "stream",
          "name": "stdout",
          "text": [
            "Overwriting manual_sgemm.c\n"
          ]
        }
      ]
    },
    {
      "cell_type": "code",
      "source": [
        "!gcc -O2 -o manual_sgemm manual_sgemm.c\n",
        "!./manual_sgemm\n"
      ],
      "metadata": {
        "colab": {
          "base_uri": "https://localhost:8080/"
        },
        "id": "CZOn--MNRAfX",
        "outputId": "3a9132c5-3fd7-40ec-e7f9-acd81799fa61"
      },
      "execution_count": 57,
      "outputs": [
        {
          "output_type": "stream",
          "name": "stdout",
          "text": [
            "Manual multiplication took 21.549966 seconds\n"
          ]
        }
      ]
    }
  ]
}