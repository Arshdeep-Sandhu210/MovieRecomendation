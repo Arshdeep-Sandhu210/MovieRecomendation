{
 "cells": [
  {
   "cell_type": "code",
   "execution_count": 1,
   "metadata": {},
   "outputs": [],
   "source": [
    "from lenskit.als import BiasedMFScorer\n",
    "from lenskit.batch import recommend\n",
    "from lenskit.data import ItemListCollection, UserIDKey, load_movielens\n",
    "from lenskit.knn import ItemKNNScorer\n",
    "from lenskit.metrics import NDCG, RBP, RecipRank, RunAnalysis\n",
    "from lenskit.pipeline import topn_pipeline\n",
    "from lenskit.splitting import SampleFrac, crossfold_users"
   ]
  },
  {
   "cell_type": "code",
   "execution_count": 2,
   "metadata": {},
   "outputs": [],
   "source": [
    "import matplotlib.pyplot as plt\n",
    "import seaborn as sns"
   ]
  },
  {
   "cell_type": "code",
   "execution_count": 3,
   "metadata": {},
   "outputs": [],
   "source": [
    "from pyprojroot.here import here\n",
    "from pathlib import Path\n"
   ]
  },
  {
   "cell_type": "code",
   "execution_count": 4,
   "metadata": {},
   "outputs": [
    {
     "data": {
      "text/html": [
       "<div>\n",
       "<style scoped>\n",
       "    .dataframe tbody tr th:only-of-type {\n",
       "        vertical-align: middle;\n",
       "    }\n",
       "\n",
       "    .dataframe tbody tr th {\n",
       "        vertical-align: top;\n",
       "    }\n",
       "\n",
       "    .dataframe thead th {\n",
       "        text-align: right;\n",
       "    }\n",
       "</style>\n",
       "<table border=\"1\" class=\"dataframe\">\n",
       "  <thead>\n",
       "    <tr style=\"text-align: right;\">\n",
       "      <th></th>\n",
       "      <th>user_id</th>\n",
       "      <th>item_id</th>\n",
       "      <th>rating</th>\n",
       "      <th>timestamp</th>\n",
       "    </tr>\n",
       "  </thead>\n",
       "  <tbody>\n",
       "    <tr>\n",
       "      <th>0</th>\n",
       "      <td>1</td>\n",
       "      <td>1</td>\n",
       "      <td>5.0</td>\n",
       "      <td>2001-01-06 23:37:48</td>\n",
       "    </tr>\n",
       "    <tr>\n",
       "      <th>1</th>\n",
       "      <td>1</td>\n",
       "      <td>48</td>\n",
       "      <td>5.0</td>\n",
       "      <td>2001-01-06 23:39:11</td>\n",
       "    </tr>\n",
       "    <tr>\n",
       "      <th>2</th>\n",
       "      <td>1</td>\n",
       "      <td>150</td>\n",
       "      <td>5.0</td>\n",
       "      <td>2000-12-31 22:29:37</td>\n",
       "    </tr>\n",
       "    <tr>\n",
       "      <th>3</th>\n",
       "      <td>1</td>\n",
       "      <td>260</td>\n",
       "      <td>4.0</td>\n",
       "      <td>2000-12-31 22:12:40</td>\n",
       "    </tr>\n",
       "    <tr>\n",
       "      <th>4</th>\n",
       "      <td>1</td>\n",
       "      <td>527</td>\n",
       "      <td>5.0</td>\n",
       "      <td>2001-01-06 23:36:35</td>\n",
       "    </tr>\n",
       "  </tbody>\n",
       "</table>\n",
       "</div>"
      ],
      "text/plain": [
       "   user_id  item_id  rating           timestamp\n",
       "0        1        1     5.0 2001-01-06 23:37:48\n",
       "1        1       48     5.0 2001-01-06 23:39:11\n",
       "2        1      150     5.0 2000-12-31 22:29:37\n",
       "3        1      260     4.0 2000-12-31 22:12:40\n",
       "4        1      527     5.0 2001-01-06 23:36:35"
      ]
     },
     "execution_count": 4,
     "metadata": {},
     "output_type": "execute_result"
    }
   ],
   "source": [
    "\n",
    "ml100k = load_movielens(Path(\"C:/SCHOOL/Spring2024/HPML/Project/100k/1monoine/data/ml-1m.zip\"))\n",
    "ml100k.interaction_table(format=\"pandas\", original_ids=True).head()"
   ]
  },
  {
   "cell_type": "code",
   "execution_count": 5,
   "metadata": {},
   "outputs": [],
   "source": [
    "model_ii = ItemKNNScorer(k=20)\n",
    "model_als = BiasedMFScorer(features=50)"
   ]
  },
  {
   "cell_type": "code",
   "execution_count": 6,
   "metadata": {},
   "outputs": [],
   "source": [
    "pipe_ii = topn_pipeline(model_ii)\n",
    "pipe_als = topn_pipeline(model_als)"
   ]
  },
  {
   "cell_type": "code",
   "execution_count": 7,
   "metadata": {},
   "outputs": [
    {
     "name": "stderr",
     "output_type": "stream",
     "text": [
      "C:\\Users\\arshs\\AppData\\Local\\Packages\\PythonSoftwareFoundation.Python.3.12_qbz5n2kfra8p0\\LocalCache\\local-packages\\Python312\\site-packages\\lenskit\\als\\_explicit.py:58: UserWarning: Sparse CSR tensor support is in beta state. If you miss a functionality in the sparse tensor support, please submit a feature request to https://github.com/pytorch/pytorch/issues. (Triggered internally at C:\\actions-runner\\_work\\pytorch\\pytorch\\builder\\windows\\pytorch\\aten\\src\\ATen\\SparseCsrTensorImpl.cpp:55.)\n",
      "  rmat = rmat.to_sparse_csr()\n"
     ]
    }
   ],
   "source": [
    "# test data is organized by user\n",
    "all_test = ItemListCollection(UserIDKey)\n",
    "# recommendations will be organized by model and user ID\n",
    "all_recs = ItemListCollection([\"model\", \"user_id\"])\n",
    "\n",
    "for split in crossfold_users(ml100k, 5, SampleFrac(0.2)):\n",
    "    # collect the test data\n",
    "    all_test.add_from(split.test)\n",
    "\n",
    "    # train the pipeline, cloning first so a fresh pipeline for each split\n",
    "    fit_als = pipe_als.clone()\n",
    "    fit_als.train(split.train)\n",
    "    # generate recs\n",
    "    als_recs = recommend(fit_als, split.test.keys(), 100)\n",
    "    all_recs.add_from(als_recs, model=\"ALS\")\n",
    "\n",
    "    # do the same for item-item\n",
    "    fit_ii = pipe_ii.clone()\n",
    "    fit_ii.train(split.train)\n",
    "    ii_recs = recommend(fit_ii, split.test.keys(), 100)\n",
    "    all_recs.add_from(ii_recs, model=\"II\")"
   ]
  },
  {
   "cell_type": "code",
   "execution_count": 8,
   "metadata": {},
   "outputs": [],
   "source": [
    "ran = RunAnalysis()\n",
    "ran.add_metric(NDCG())\n",
    "ran.add_metric(RBP())\n",
    "ran.add_metric(RecipRank())\n",
    "results = ran.measure(all_recs, all_test)"
   ]
  },
  {
   "cell_type": "code",
   "execution_count": 9,
   "metadata": {},
   "outputs": [
    {
     "data": {
      "text/html": [
       "<div>\n",
       "<style scoped>\n",
       "    .dataframe tbody tr th:only-of-type {\n",
       "        vertical-align: middle;\n",
       "    }\n",
       "\n",
       "    .dataframe tbody tr th {\n",
       "        vertical-align: top;\n",
       "    }\n",
       "\n",
       "    .dataframe thead th {\n",
       "        text-align: right;\n",
       "    }\n",
       "</style>\n",
       "<table border=\"1\" class=\"dataframe\">\n",
       "  <thead>\n",
       "    <tr style=\"text-align: right;\">\n",
       "      <th></th>\n",
       "      <th>NDCG</th>\n",
       "      <th>RBP</th>\n",
       "      <th>RecipRank</th>\n",
       "    </tr>\n",
       "    <tr>\n",
       "      <th>model</th>\n",
       "      <th></th>\n",
       "      <th></th>\n",
       "      <th></th>\n",
       "    </tr>\n",
       "  </thead>\n",
       "  <tbody>\n",
       "    <tr>\n",
       "      <th>ALS</th>\n",
       "      <td>0.091661</td>\n",
       "      <td>0.065982</td>\n",
       "      <td>0.179740</td>\n",
       "    </tr>\n",
       "    <tr>\n",
       "      <th>II</th>\n",
       "      <td>0.068557</td>\n",
       "      <td>0.037794</td>\n",
       "      <td>0.090731</td>\n",
       "    </tr>\n",
       "  </tbody>\n",
       "</table>\n",
       "</div>"
      ],
      "text/plain": [
       "           NDCG       RBP  RecipRank\n",
       "model                               \n",
       "ALS    0.091661  0.065982   0.179740\n",
       "II     0.068557  0.037794   0.090731"
      ]
     },
     "execution_count": 9,
     "metadata": {},
     "output_type": "execute_result"
    }
   ],
   "source": [
    "results.list_metrics().groupby(\"model\").mean()\n"
   ]
  },
  {
   "cell_type": "code",
   "execution_count": 10,
   "metadata": {},
   "outputs": [
    {
     "data": {
      "image/png": "[encoded data removed]",
      "text/plain": [
       "<Figure size 511.111x500 with 1 Axes>"
      ]
     },
     "metadata": {},
     "output_type": "display_data"
    }
   ],
   "source": [
    "sns.catplot(results.list_metrics().reset_index(), x=\"model\", y=\"NDCG\", kind=\"bar\")\n",
    "plt.show()"
   ]
  },
  {
   "cell_type": "code",
   "execution_count": null,
   "metadata": {},
   "outputs": [
    {
     "ename": "AttributeError",
     "evalue": "'ListILC' object has no attribute 'to_pandas'",
     "output_type": "error",
     "traceback": [
      "\u001b[31m---------------------------------------------------------------------------\u001b[39m",
      "\u001b[31mAttributeError\u001b[39m                            Traceback (most recent call last)",
      "\u001b[36mCell\u001b[39m\u001b[36m \u001b[39m\u001b[32mIn[17]\u001b[39m\u001b[32m, line 2\u001b[39m\n\u001b[32m      1\u001b[39m \u001b[38;5;66;03m# Convert recommendations to Pandas DataFrame\u001b[39;00m\n\u001b[32m----> \u001b[39m\u001b[32m2\u001b[39m df_recs = \u001b[43mall_recs\u001b[49m\u001b[43m.\u001b[49m\u001b[43mto_pandas\u001b[49m()\n\u001b[32m      4\u001b[39m \u001b[38;5;66;03m# Ensure column names are correct\u001b[39;00m\n\u001b[32m      5\u001b[39m \u001b[38;5;28mprint\u001b[39m(df_recs.head())  \u001b[38;5;66;03m# Check column names\u001b[39;00m\n",
      "\u001b[31mAttributeError\u001b[39m: 'ListILC' object has no attribute 'to_pandas'"
     ]
    }
   ],
   "source": [
    "\n"
   ]
  }
 ],
 "metadata": {
  "kernelspec": {
   "display_name": "Python 3",
   "language": "python",
   "name": "python3"
  },
  "language_info": {
   "codemirror_mode": {
    "name": "ipython",
    "version": 3
   },
   "file_extension": ".py",
   "mimetype": "text/x-python",
   "name": "python",
   "nbconvert_exporter": "python",
   "pygments_lexer": "ipython3",
   "version": "3.12.9"
  }
 },
 "nbformat": 4,
 "nbformat_minor": 2
}
