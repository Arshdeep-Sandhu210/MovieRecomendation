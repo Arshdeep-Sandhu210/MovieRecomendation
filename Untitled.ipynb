{
 "cells": [
  {
   "cell_type": "code",
   "execution_count": 1,
   "id": "dffb0089-49b1-4aa0-b15a-d4d30f929504",
   "metadata": {},
   "outputs": [],
   "source": [
    "import numpy as np\n",
    "import pycuda.driver as cuda\n",
    "import pycuda.autoinit\n",
    "import ctypes\n",
    "from pycuda.compiler import SourceModule\n",
    "import time"
   ]
  },
  {
   "cell_type": "code",
   "execution_count": 2,
   "id": "2aa16392",
   "metadata": {},
   "outputs": [],
   "source": [
    "N = 10  # Adjust as needed\n"
   ]
  },
  {
   "cell_type": "code",
   "execution_count": 3,
   "id": "e56a9ba7",
   "metadata": {},
   "outputs": [],
   "source": [
    "# Define the Row structure\n",
    "class Row(ctypes.Structure):\n",
    "    _fields_ = [(\"col1\", ctypes.c_int), (\"col2\", ctypes.c_float)]\n",
    "\n",
    "# Create some example row data\n",
    "rows_data = [\n",
    "    \n",
    "]"
   ]
  },
  {
   "cell_type": "code",
   "execution_count": 4,
   "id": "31b05747",
   "metadata": {},
   "outputs": [],
   "source": [
    "# Define the parallel matrix multiplication kernel\n",
    "kernel_code = \"\"\"\n",
    "struct Row {\n",
    "    int col1;\n",
    "    float col2;\n",
    "};\n",
    "\n",
    "__global__ void matmul(float *A, float *B, int N, Row *rows) {\n",
    "    int row = blockIdx.y * blockDim.y + threadIdx.y;\n",
    "    int col = blockIdx.x * blockDim.x + threadIdx.x;\n",
    "\n",
    "    if (row < N && col < N) {\n",
    "        float value = 0.0;\n",
    "        for (int k = 0; k < N; k++) {\n",
    "            value += A[row * N + k] * B[k * N + col];\n",
    "        }\n",
    "        // C[row * N + col] = value;\n",
    "    }\n",
    "\n",
    "    // Access Row data and print it\n",
    "    if (row < N && col<N) {\n",
    "        for(int i=0;i<100;i++){\n",
    "            int col1_value = rows[row*100+i].col1;\n",
    "            float col2_value = rows[row*100+i].col2;\n",
    "            //printf(\"Row %d Col %d-> col1: %d, col2: %f\\\\n\", row,col, col1_value, col2_value);\n",
    "        }\n",
    "       \n",
    "    }\n",
    "}\n",
    "\"\"\""
   ]
  },
  {
   "cell_type": "code",
   "execution_count": 5,
   "id": "f969f4c7",
   "metadata": {},
   "outputs": [],
   "source": [
    "mod = SourceModule(kernel_code)"
   ]
  },
  {
   "cell_type": "code",
   "execution_count": 6,
   "id": "9e84cda1",
   "metadata": {},
   "outputs": [],
   "source": [
    "def read_csv_to_list_rating(file_path):\n",
    "    \"\"\"Read a CSV file into a list of lists with specific column types.\"\"\"\n",
    "    with open(file_path, 'r',encoding='utf-8') as file:\n",
    "        matrix = []\n",
    "        header = file.readline().strip().split(',')\n",
    "        for line in file:\n",
    "            values = line.strip().split(',')\n",
    "            row = [int(values[0]), int(values[1]), float(values[2]), int(values[3])]\n",
    "            matrix.append(row)\n",
    "        return header,matrix\n",
    "def read_csv_to_list_movies(file_path):\n",
    "    \"\"\"Read a CSV file into a list of lists with specific column types.\"\"\"\n",
    "    with open(file_path, 'r',encoding='utf-8') as file:\n",
    "        matrix = []\n",
    "        header = file.readline().strip().split(',')\n",
    "        for line in file:\n",
    "            values = line.strip().split(',')\n",
    "            row = [int(values[0]), str(values[1]), str(values[2])]\n",
    "            matrix.append(row)\n",
    "        return header,matrix"
   ]
  },
  {
   "cell_type": "code",
   "execution_count": 7,
   "id": "b8ef0418",
   "metadata": {},
   "outputs": [],
   "source": [
    "headerRating,matrixrating = read_csv_to_list_rating('ratings.csv')\n",
    "headerMovies,matrixMovies = read_csv_to_list_movies('movies.csv')"
   ]
  },
  {
   "cell_type": "code",
   "execution_count": 8,
   "id": "2c66ea7e",
   "metadata": {},
   "outputs": [
    {
     "name": "stdout",
     "output_type": "stream",
     "text": [
      "200948\n",
      "292757\n"
     ]
    }
   ],
   "source": [
    "totalRaters = int(matrixrating[-1][0]) #total rows\n",
    "totalMovies = int(matrixMovies[-1][0])\n",
    "print(totalRaters)\n",
    "print(totalMovies)"
   ]
  },
  {
   "cell_type": "code",
   "execution_count": 9,
   "id": "8c0f7a5f",
   "metadata": {},
   "outputs": [],
   "source": [
    "d={}\n",
    "#row 0  is userID\n",
    "\n",
    "for row in matrixrating:\n",
    "    if row[0] not in d:\n",
    "        d[row[0]]=[]\n",
    "    else:\n",
    "        d[row[0]].append(list(row[1:4]))"
   ]
  },
  {
   "cell_type": "code",
   "execution_count": 10,
   "id": "b093fd93",
   "metadata": {},
   "outputs": [],
   "source": [
    "for key, val in d.items():\n",
    "    d[key] = sorted(val, key=lambda x: x[2])\n",
    "\n",
    "\n",
    "    "
   ]
  },
  {
   "cell_type": "code",
   "execution_count": 11,
   "id": "12a54ad5",
   "metadata": {},
   "outputs": [
    {
     "name": "stdout",
     "output_type": "stream",
     "text": [
      "start\n"
     ]
    }
   ],
   "source": [
    "\n",
    "print(\"start\")\n",
    "for key,val in d.items():\n",
    "    d[key] = d[key][::-1]\n",
    "    \n"
   ]
  },
  {
   "cell_type": "code",
   "execution_count": 12,
   "id": "ca1bc551",
   "metadata": {},
   "outputs": [
    {
     "name": "stdout",
     "output_type": "stream",
     "text": [
      "[[2125, 4.0, 944256398], [2020, 5.0, 944256398], [1392, 4.0, 944256398], [926, 5.0, 944256398], [2712, 1.0, 944253272]]\n"
     ]
    }
   ],
   "source": [
    "print(d[1][:5])"
   ]
  },
  {
   "cell_type": "code",
   "execution_count": 13,
   "id": "9bfbec2f",
   "metadata": {},
   "outputs": [
    {
     "name": "stdout",
     "output_type": "stream",
     "text": [
      "start\n"
     ]
    }
   ],
   "source": [
    "newD = {}\n",
    "\n",
    "print(\"start\")\n",
    "for key,val in d.items():\n",
    "    newD[key] = d[key][:100]\n",
    "\n",
    "\n",
    "\n"
   ]
  },
  {
   "cell_type": "markdown",
   "id": "06312f12",
   "metadata": {},
   "source": [
    "Up to this point newD is a dictionary of users with most recent 100 movies rated for each user"
   ]
  },
  {
   "cell_type": "code",
   "execution_count": 14,
   "id": "ee3ddf65",
   "metadata": {},
   "outputs": [
    {
     "name": "stdout",
     "output_type": "stream",
     "text": [
      "200948\n",
      "[[2125, 4.0, 944256398], [2020, 5.0, 944256398], [1392, 4.0, 944256398], [926, 5.0, 944256398], [2712, 1.0, 944253272], [2329, 5.0, 944253272], [1952, 4.0, 944253272], [1810, 3.0, 944253272], [971, 3.0, 944253272], [645, 4.0, 944253272], [302, 4.0, 944253272], [2313, 5.0, 944253207], [1228, 5.0, 944253207], [1056, 5.0, 944253207], [307, 5.0, 944253207], [1693, 5.0, 944253134], [1406, 2.0, 944253134], [1357, 1.0, 944253134], [1041, 5.0, 944253134], [2520, 5.0, 944250228], [1296, 3.0, 944250228], [1183, 4.0, 944250228], [923, 5.0, 944250228], [908, 5.0, 944250228], [25, 1.0, 944250228], [2312, 1.0, 944250182], [1961, 1.0, 944250182], [1721, 5.0, 944250182], [1247, 5.0, 944250182], [1221, 5.0, 944250121], [1213, 5.0, 944250121], [1150, 4.0, 944250121], [1120, 1.0, 944250121], [30, 5.0, 944249077], [2025, 5.0, 944249008], [1719, 5.0, 944249008], [1263, 5.0, 944249008], [111, 5.0, 944249008], [36, 1.0, 944249008], [2268, 1.0, 944248943], [1276, 3.0, 944248943], [1172, 3.0, 944248943], [608, 2.0, 944248943], [80, 5.0, 944248943], [1225, 4.0, 944248888], [1203, 5.0, 944248888], [835, 3.0, 944248888], [800, 4.0, 944248888], [593, 3.0, 944248888], [306, 5.0, 944248888], [927, 5.0, 944082894], [2407, 1.0, 944082810], [562, 5.0, 944082810], [223, 3.0, 944082810], [1270, 5.0, 944082760], [1259, 4.0, 944082760], [915, 5.0, 944082760], [2502, 3.0, 944080344], [2243, 1.0, 944080344], [1060, 2.0, 944080344], [933, 5.0, 944080344], [2973, 5.0, 944079496], [1885, 4.0, 944079496], [1080, 1.0, 944079496], [176, 4.0, 944079496], [2690, 3.0, 944079417], [909, 5.0, 944079417], [2424, 1.0, 944079376], [2109, 1.0, 944079376], [2064, 3.0, 944079376], [916, 4.0, 944079376], [345, 1.0, 944079376], [3088, 3.0, 944053949], [1297, 5.0, 944053949], [1968, 5.0, 944053948], [1304, 3.0, 944053948], [1234, 5.0, 944053948], [2247, 5.0, 944053801], [322, 4.0, 944053801], [2797, 5.0, 944053758], [2067, 1.0, 943231236], [1960, 1.0, 943231236], [1939, 5.0, 943231236], [1272, 5.0, 943231236], [1217, 5.0, 943231236], [1200, 5.0, 943231236], [1094, 4.0, 943231236], [1090, 5.0, 943231236], [1208, 5.0, 943231192], [1204, 1.0, 943231192], [2944, 4.0, 943231162], [2028, 3.0, 943231162], [1242, 1.0, 943231162], [1233, 5.0, 943231162], [1178, 4.0, 943231162], [161, 1.0, 943231162], [1944, 2.0, 943231120], [1262, 4.0, 943231120], [912, 2.0, 943231120], [527, 3.0, 943231120]]\n"
     ]
    }
   ],
   "source": [
    "totalUsers = len(newD)\n",
    "print(totalUsers)\n",
    "\n",
    "# rows = np.array([(1, 5.0), (2, 6.0), (3, 7.0), (4, 8.0)], dtype=[('col1', np.int32), ('col2', np.float32)])\n",
    "# print(rows)\n",
    "print(newD[1])"
   ]
  },
  {
   "cell_type": "code",
   "execution_count": 15,
   "id": "caf39147",
   "metadata": {},
   "outputs": [],
   "source": [
    "rows_data=[]\n",
    "for i in range(1,(len(newD)+1)):\n",
    "    row = newD[i]\n",
    "    for j in range(100):\n",
    "        if j<len(row):\n",
    "            rows_data.append(Row(row[j][0],row[j][1]))\n",
    "        else:\n",
    "            rows_data.append(Row(0,0.0))\n",
    "    "
   ]
  },
  {
   "cell_type": "code",
   "execution_count": 16,
   "id": "e86b20c1",
   "metadata": {},
   "outputs": [
    {
     "name": "stdout",
     "output_type": "stream",
     "text": [
      "87585\n"
     ]
    }
   ],
   "source": [
    "print(len(matrixMovies))"
   ]
  },
  {
   "cell_type": "code",
   "execution_count": 17,
   "id": "65005bf1",
   "metadata": {},
   "outputs": [],
   "source": [
    "matrixAMovies = np.zeros((totalMovies, N), dtype=np.float32)\n",
    "\n",
    "matrixBUsers = np.zeros((N, totalRaters), dtype=np.float32)\n",
    "\n",
    "\n"
   ]
  },
  {
   "cell_type": "code",
   "execution_count": 18,
   "id": "f7a252a1",
   "metadata": {},
   "outputs": [],
   "source": [
    "# Fill matrices with random values in the range -0.01 to 0.01\n",
    "matrixAMovies = np.random.uniform(-0.01, 0.01, size=(totalMovies, N)).astype(np.float32)\n",
    "matrixBUsers = np.random.uniform(-0.01, 0.01, size=(N, totalRaters)).astype(np.float32)\n"
   ]
  },
  {
   "cell_type": "code",
   "execution_count": 19,
   "id": "bb70dc0e",
   "metadata": {},
   "outputs": [],
   "source": [
    "A_gpu_matrixAMovies = cuda.mem_alloc(matrixAMovies.nbytes)\n",
    "B_gpu_matrixBUsers = cuda.mem_alloc(matrixBUsers.nbytes)\n",
    "\n",
    "if (A_gpu_matrixAMovies==None or B_gpu_matrixBUsers==None):\n",
    "    print(\"Damn\")"
   ]
  },
  {
   "cell_type": "code",
   "execution_count": 20,
   "id": "1bc833b6",
   "metadata": {},
   "outputs": [],
   "source": [
    "rows = (Row * len(rows_data))(*rows_data)\n",
    "\n",
    "# Allocate memory on the GPU for the rows\n",
    "rows_gpu = cuda.mem_alloc(ctypes.sizeof(rows))\n",
    "if (rows_gpu==None):\n",
    "    print(\"damn\")\n",
    "\n",
    "# Transfer the rows data to the GPU\n",
    "cuda.memcpy_htod(rows_gpu, rows)"
   ]
  },
  {
   "cell_type": "code",
   "execution_count": 21,
   "id": "6377aa59",
   "metadata": {},
   "outputs": [],
   "source": [
    "cuda.memcpy_htod(A_gpu_matrixAMovies, matrixAMovies)\n",
    "cuda.memcpy_htod(B_gpu_matrixBUsers, matrixBUsers)"
   ]
  },
  {
   "cell_type": "code",
   "execution_count": 22,
   "id": "ab86a31f",
   "metadata": {},
   "outputs": [
    {
     "name": "stdout",
     "output_type": "stream",
     "text": [
      "20094800\n"
     ]
    }
   ],
   "source": [
    "print(len(rows_data))"
   ]
  },
  {
   "cell_type": "code",
   "execution_count": 23,
   "id": "7b499ea4",
   "metadata": {},
   "outputs": [],
   "source": [
    "matmul = mod.get_function(\"matmul\")\n"
   ]
  },
  {
   "cell_type": "code",
   "execution_count": 24,
   "id": "cf75a9f5",
   "metadata": {},
   "outputs": [],
   "source": [
    "\n",
    "# Define grid and block sizes\n",
    "block_size = (16, 16, 1)  # 16x16 threads per block\n",
    "grid_size = ((totalRaters + block_size[0] - 1) // block_size[0],\n",
    "             (totalMovies + block_size[1] - 1) // block_size[1])"
   ]
  },
  {
   "cell_type": "code",
   "execution_count": 25,
   "id": "c926ed4c",
   "metadata": {},
   "outputs": [
    {
     "name": "stdout",
     "output_type": "stream",
     "text": [
      "Parallel GPU Execution Time (CUDA): 0.37231 seconds\n"
     ]
    }
   ],
   "source": [
    "# Run the parallel CUDA kernel\n",
    "cuda.Context.synchronize()  # Ensure synchronization before execution\n",
    "start_time = time.time()\n",
    "matmul(A_gpu_matrixAMovies, B_gpu_matrixBUsers, np.int32(N), rows_gpu,block=block_size, grid=grid_size)\n",
    "cuda.Context.synchronize()  # Ensure synchronization after execution\n",
    "\n",
    "# Copy result back to CPU\n",
    "\n",
    "# Track execution time for CUDA\n",
    "end_time = time.time()\n",
    "print(f\"Parallel GPU Execution Time (CUDA): {end_time - start_time:.5f} seconds\")"
   ]
  },
  {
   "cell_type": "code",
   "execution_count": 26,
   "id": "5ea949c0",
   "metadata": {},
   "outputs": [
    {
     "name": "stdout",
     "output_type": "stream",
     "text": [
      "20094800\n"
     ]
    }
   ],
   "source": [
    "print(len(rows_data))"
   ]
  },
  {
   "cell_type": "code",
   "execution_count": 27,
   "id": "bb7b815a",
   "metadata": {},
   "outputs": [
    {
     "name": "stdout",
     "output_type": "stream",
     "text": [
      "200948\n"
     ]
    }
   ],
   "source": [
    "print(totalRaters)"
   ]
  },
  {
   "cell_type": "code",
   "execution_count": 30,
   "id": "e6aaa223",
   "metadata": {},
   "outputs": [
    {
     "name": "stdout",
     "output_type": "stream",
     "text": [
      "708\n"
     ]
    }
   ],
   "source": [
    "print(rows_data[330400].col1)"
   ]
  },
  {
   "cell_type": "code",
   "execution_count": null,
   "id": "70999dcf",
   "metadata": {},
   "outputs": [],
   "source": []
  }
 ],
 "metadata": {
  "kernelspec": {
   "display_name": "Python 3",
   "language": "python",
   "name": "python3"
  },
  "language_info": {
   "codemirror_mode": {
    "name": "ipython",
    "version": 3
   },
   "file_extension": ".py",
   "mimetype": "text/x-python",
   "name": "python",
   "nbconvert_exporter": "python",
   "pygments_lexer": "ipython3",
   "version": "3.12.9"
  }
 },
 "nbformat": 4,
 "nbformat_minor": 5
}
